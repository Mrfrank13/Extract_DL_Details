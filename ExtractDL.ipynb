{
 "cells": [
  {
   "cell_type": "code",
   "execution_count": 50,
   "metadata": {},
   "outputs": [],
   "source": [
    "import requests\n",
    "from lxml import html\n",
    "import json"
   ]
  },
  {
   "cell_type": "code",
   "execution_count": 31,
   "metadata": {},
   "outputs": [],
   "source": [
    "home_url = 'https://parivahan.gov.in/rcdlstatus/?pur_cd=101'\n",
    "post_url = 'https://parivahan.gov.in/rcdlstatus/?pur_cd=101'\n",
    "DL='DL-0420110149646'\n",
    "DOB='09-02-1976'"
   ]
  },
  {
   "cell_type": "code",
   "execution_count": null,
   "metadata": {},
   "outputs": [],
   "source": [
    "\n"
   ]
  },
  {
   "cell_type": "code",
   "execution_count": null,
   "metadata": {},
   "outputs": [],
   "source": []
  },
  {
   "cell_type": "code",
   "execution_count": null,
   "metadata": {},
   "outputs": [],
   "source": []
  },
  {
   "cell_type": "code",
   "execution_count": 32,
   "metadata": {},
   "outputs": [],
   "source": [
    "def get_captcha():\n",
    "    captchaimg2 = tree.xpath('//img[@id=\"form_rcdl:j_idt34:j_idt41\"]/@src')\n",
    "    imgurl='https://parivahan.gov.in'+str(captchaimg2[0])\n",
    "    r=requests.get(imgurl)\n",
    "    open('Desktop/ImageVerify.jpg', 'wb').write(r.content)\n",
    "    captcha=input('Enter The Captcha')\n",
    "    return captcha"
   ]
  },
  {
   "cell_type": "code",
   "execution_count": 33,
   "metadata": {},
   "outputs": [
    {
     "name": "stdout",
     "output_type": "stream",
     "text": [
      "<?xml version='1.0' encoding='UTF-8'?>\n",
      "<partial-response id=\"j_id1\"><changes><update id=\"form_rcdl:rcdl_pnl\"><![CDATA[<div id=\"form_rcdl:rcdl_pnl\" class=\"ui-panel ui-widget ui-widget-content ui-corner-all datatable-panel\" data-widget=\"widget_form_rcdl_rcdl_pnl\"><div id=\"form_rcdl:rcdl_pnl_header\" class=\"ui-panel-titlebar ui-widget-header ui-helper-clearfix ui-corner-all\"><span class=\"ui-panel-title\">Know your DL Status</span></div><div id=\"form_rcdl:rcdl_pnl_content\" class=\"ui-panel-content ui-widget-content\"><div id=\"form_rcdl:j_idt13\" class=\"ui-messages ui-widget\" aria-live=\"polite\"></div><div id=\"form_rcdl:j_idt15\" class=\"ui-outputpanel ui-widget\">\n",
      "                                <div class=\"ui-grid-row bottom-space\">\n",
      "                                    <div class=\"ui-grid-col-4 resp-blank-height\"></div>\n",
      "                                    <div class=\"ui-grid-col-2\">\n",
      "                                        <label class=\"field-label resp-label-section\"><label id=\"form_rcdl:j_idt17\" class=\"ui-outputlabel ui-widget top-space field-label-mandate\" for=\"form_rcdl:tf_dlNO\">Driving Licence No.<span class=\"ui-outputlabel-rfi\">*</span></label>\n",
      "                                        </label>\n",
      "                                    </div>\n",
      "                                    <div class=\"ui-grid-col-3\"><script id=\"form_rcdl:j_idt19_s\" type=\"text/javascript\">$(function(){PrimeFaces.cw(\"KeyFilter\",\"widget_form_rcdl_j_idt19\",{id:\"form_rcdl:j_idt19\",target:\"form_rcdl:tf_dlNO\",regEx:/[A-Z0-9- /.]/i,preventPaste:true});});</script><input id=\"form_rcdl:tf_dlNO\" name=\"form_rcdl:tf_dlNO\" type=\"text\" value=\"DL-0420110149646\" autocomplete=\"off\" maxlength=\"20\" placeholder=\"DL-12345678901234\" size=\"16\" onchange=\"PrimeFaces.ab({s:&quot;form_rcdl:tf_dlNO&quot;,e:&quot;valueChange&quot;,p:&quot;form_rcdl:tf_dlNO&quot;,u:&quot;form_rcdl:tf_dlNO&quot;});\" disabled=\"disabled\" aria-required=\"true\" class=\"ui-inputfield ui-inputtext ui-widget ui-state-default ui-corner-all ui-state-disabled input\" /><script id=\"form_rcdl:tf_dlNO_s\" type=\"text/javascript\">PrimeFaces.cw(\"InputText\",\"widget_form_rcdl_tf_dlNO\",{id:\"form_rcdl:tf_dlNO\"});</script>\n",
      "                                    </div>\n",
      "                                </div>\n",
      "                                <div class=\"ui-grid-row bottom-space\">\n",
      "                                    <div class=\"ui-grid-col-4 resp-blank-height\"></div>\n",
      "                                    <div class=\"ui-grid-col-2\">\n",
      "                                        <label class=\"field-label resp-label-section right-position\"><label id=\"form_rcdl:j_idt21\" class=\"ui-outputlabel ui-widget top-space field-label-mandate\" for=\"form_rcdl:tf_dob_input\">Date Of Birth<span class=\"ui-outputlabel-rfi\">*</span></label>\n",
      "                                        </label>\n",
      "                                    </div>\n",
      "                                    <div class=\"ui-grid-col-3\"><span id=\"form_rcdl:tf_dob\" class=\"ui-calendar input\"><input id=\"form_rcdl:tf_dob_input\" name=\"form_rcdl:tf_dob_input\" type=\"text\" aria-required=\"true\" value=\"09-02-1976\" class=\"ui-inputfield ui-widget ui-state-default ui-corner-all ui-state-disabled\" disabled=\"disabled\" autocomplete=\"off\" maxlength=\"12\" placeholder=\"31-01-1990\" onchange=\"PrimeFaces.ab({s:&quot;form_rcdl:tf_dob&quot;,e:&quot;valueChange&quot;,p:&quot;form_rcdl:tf_dob&quot;,u:&quot;form_rcdl:tf_dob&quot;,ps:true});\" aria-labelledby=\"form_rcdl:j_idt21\" /></span><script id=\"form_rcdl:tf_dob_s\" type=\"text/javascript\">$(function(){PrimeFaces.cw(\"Calendar\",\"widget_form_rcdl_tf_dob\",{id:\"form_rcdl:tf_dob\",popup:true,locale:\"en_US\",dateFormat:\"dd-mm-yy\",defaultDate:\"09-02-1976\",maxDate:\"05-05-2020\",disabled:true,yearRange:\"1900:c\",changeMonth:true,changeYear:true,behaviors:{}});});</script>\n",
      "                                    </div>\n",
      "                                </div></div>\n",
      "                            \n",
      "                            <div class=\"ui-grid-row bottom-space center-position\">\n",
      "                                <div class=\"ui-grid-col-12\"><button id=\"form_rcdl:j_idt46\" name=\"form_rcdl:j_idt46\" class=\"ui-button ui-widget ui-state-default ui-corner-all ui-button-text-only\" onclick=\"PrimeFaces.ab({s:&quot;form_rcdl:j_idt46&quot;,u:&quot;form_rcdl:pnl_show form_rcdl:pg_show form_rcdl:rcdl_pnl&quot;,onst:function(cfg){PF('block_ui').show();;},onsu:function(data,status,xhr){PF('block_ui').hide();;}});return false;\" type=\"submit\"><span class=\"ui-button-text ui-c\">Check Status</span></button><script id=\"form_rcdl:j_idt46_s\" type=\"text/javascript\">PrimeFaces.cw(\"CommandButton\",\"widget_form_rcdl_j_idt46\",{id:\"form_rcdl:j_idt46\"});</script><button id=\"form_rcdl:rest_bt\" name=\"form_rcdl:rest_bt\" class=\"ui-button ui-widget ui-state-default ui-corner-all ui-button-text-only\" onclick=\"\" type=\"submit\"><span class=\"ui-button-text ui-c\">Reset</span></button><script id=\"form_rcdl:rest_bt_s\" type=\"text/javascript\">PrimeFaces.cw(\"CommandButton\",\"widget_form_rcdl_rest_bt\",{id:\"form_rcdl:rest_bt\"});</script>                    \n",
      "                                </div>\n",
      "                            </div><div id=\"form_rcdl:pnl_show\" class=\"ui-outputpanel ui-widget datatable-panel\"><span id=\"form_rcdl:pg_show\">\n",
      "\n",
      "    \n",
      "    <div class=\"ui-grid ui-grid-responsive\">\n",
      "        <div class=\"ui-grid-col-12\">\n",
      "            \n",
      "            <div class=\"ui-grid ui-grid-responsive\"><div id=\"form_rcdl:dlPanel\" class=\"ui-outputpanel ui-widget\"><div id=\"form_rcdl:j_idt118\" class=\"ui-outputpanel ui-widget\">\n",
      "                        <div class=\"font-bold top-space bottom-space text-capitalize center-position text-underline\">\n",
      "                            Details Of Driving License: DL-0420110149646\n",
      "                        </div>\n",
      "                        <table class=\"table table-responsive table-striped table-condensed table-bordered\">\n",
      "                            <tr>\n",
      "                                <td style=\"width: 15%;\"><span class=\"font-bold\">Current Status:</span></td>\n",
      "                                <td><span class=\"\">ACTIVE</span></td>\n",
      "                            </tr>\n",
      "                            <tr>\n",
      "                                <td style=\"width: 15%;\"><span class=\"font-bold\">Holder's Name:</span></td>\n",
      "                                <td>ANURAG           BREJA</td>\n",
      "                            </tr>\n",
      "                            <tr>\n",
      "                                <td style=\"width: 15%;\"><span class=\"font-bold\">Date Of Issue:</span></td>\n",
      "                                <td>01-Mar-2011</td>\n",
      "                            </tr>\n",
      "                            <tr>\n",
      "                                <td style=\"width: 15%;\"><span class=\"font-bold\">Last Transaction At:</span></td>\n",
      "                                <td>ZONAL OFFICE, WEST DELHI, JANAKPURI</td>\n",
      "                            </tr>\n",
      "                            <tr>\n",
      "                                <td style=\"width: 15%;\"><span class=\"font-bold\">Old / New DL No.:</span></td>\n",
      "                                <td>DL-0420110149646</td>\n",
      "                            </tr>\n",
      "                        </table>\n",
      "                        <div class=\"font-bold top-space bottom-space text-capitalize center-position text-underline\">\n",
      "                            Driving License Validity Details\n",
      "                        </div>\n",
      "                        <table class=\"table table-responsive table-striped table-condensed table-bordered data-table\" style=\"margin-bottom: 0px;\">\n",
      "                            <tr>\n",
      "                                <td style=\"width: 33%;\"><span class=\"font-bold\">Non-Transport</span></td>\n",
      "                                <td style=\"width: 33%;\"><span class=\"font-bold\">From: </span>01-Mar-2011</td>\n",
      "                                <td style=\"width: 33%;\"><span class=\"font-bold\">To: </span>08-Feb-2026</td>\n",
      "                            </tr>\n",
      "                            <tr>\n",
      "                                <td style=\"width: 33%;\"><span class=\"font-bold\">Transport</span></td>\n",
      "                                <td style=\"width: 33%;\"><span class=\"font-bold\">From: </span>NA</td>\n",
      "                                <td style=\"width: 33%;\"><span class=\"font-bold\">To: </span>NA</td>\n",
      "                            </tr>\n",
      "                        </table>\n",
      "                        <table class=\"table table-responsive table-striped table-condensed table-bordered data-table\" style=\"margin-top: 0px;\">\n",
      "                            <tr>\n",
      "                                <td style=\"width: 25%;\"><span class=\"font-bold\">Hazardous Valid Till:</span></td>\n",
      "                                <td style=\"width: 25%;\">NA</td>\n",
      "                                <td style=\"width: 25%;\"><span class=\"font-bold\">Hill Valid Till:</span></td>\n",
      "                                <td style=\"width: 25%;\">NA</td>\n",
      "                            </tr>\n",
      "                        </table>\n",
      "                        <div class=\"font-bold top-space bottom-space text-capitalize center-position text-underline\">\n",
      "                            Class Of Vehicle Details\n",
      "                        </div><div id=\"form_rcdl:j_idt167\" class=\"ui-datatable ui-widget top-space bottom-space\" style=\"width: 100%;\"><div class=\"ui-datatable-tablewrapper\"><table role=\"grid\"><thead id=\"form_rcdl:j_idt167_head\"><tr role=\"row\"><th id=\"form_rcdl:j_idt167:j_idt168\" class=\"ui-state-default\" role=\"columnheader\" aria-label=\"COV Category\"><span class=\"ui-column-title\">COV Category</span></th><th id=\"form_rcdl:j_idt167:j_idt170\" class=\"ui-state-default\" role=\"columnheader\" aria-label=\"Class Of Vehicle\"><span class=\"ui-column-title\">Class Of Vehicle</span></th><th id=\"form_rcdl:j_idt167:j_idt172\" class=\"ui-state-default\" role=\"columnheader\" aria-label=\"COV Issue Date\"><span class=\"ui-column-title\">COV Issue Date</span></th></tr></thead><tbody id=\"form_rcdl:j_idt167_data\" class=\"ui-datatable-data ui-widget-content\"><tr data-ri=\"0\" class=\"ui-widget-content ui-datatable-even\" role=\"row\"><td role=\"gridcell\">NT</td><td role=\"gridcell\">ADPVEH</td><td role=\"gridcell\">01-Mar-2011</td></tr></tbody></table></div></div><script id=\"form_rcdl:j_idt167_s\" type=\"text/javascript\">$(function(){PrimeFaces.cw(\"DataTable\",\"widget_form_rcdl_j_idt167\",{id:\"form_rcdl:j_idt167\"});});</script></div></div>\n",
      "            </div>\n",
      "            \n",
      "        </div>\n",
      "    </div></span></div><div id=\"form_rcdl:j_idt48\" class=\"ui-outputpanel ui-widget\">\n",
      "                                <div class=\"ui-grid-row\">\n",
      "                                    <div class=\"ui-grid-col-1 right-position right-space\" style=\"width: 5% !important\">\n",
      "                                        <b style=\"font-size: 14px !important\"><u>Note:</u> - </b>\n",
      "                                    </div>\n",
      "                                    <div class=\"ui-grid-col-11\">\n",
      "                                        <span class=\"text-red\" style=\"font-size: 13px !important\">Driving Licence number can be entered in any of the following formats: DL-1420110012345 or DL14 20110012345<br />\n",
      "                                            Total number of input characters should be exactly 16 (including space or '-').<br />\n",
      "                                            If you hold an old driving license with a different format, please convert the format as per below rule before entering.<br />\n",
      "                                            <b>SS-RRYYYYNNNNNNN</b> OR  <b>SSRR YYYYNNNNNNN</b><br />\n",
      "                                            Where<br />\n",
      "                                            <b>SS</b> - Two character State Code (like RJ for Rajasthan, TN for Tamil Nadu etc)<br />\n",
      "                                            <b>RR</b> - Two digit RTO Code<br />\n",
      "                                            <b>YYYY</b> - 4-digit Year of Issue (For Example: If year is mentioned in 2 digits, say 99, then it should be converted to 1999. Similarly use 2012 for 12).<br />\n",
      "                                            Rest of the numbers are to be given in 7 digits. If there are less number of digits, then additional 0's(zeros) may be added to make the total 7.<br />\n",
      "                                            For example: If the Driving Licence Number is  RJ-13/DLC/12/ 123456 then please enter RJ-1320120123456 OR RJ13 20120123456.</span>\n",
      "                                    </div>\n",
      "                                </div></div></div></div><script id=\"form_rcdl:rcdl_pnl_s\" type=\"text/javascript\">PrimeFaces.cw(\"Panel\",\"widget_form_rcdl_rcdl_pnl\",{id:\"form_rcdl:rcdl_pnl\"});</script>]]></update><update id=\"j_id1:javax.faces.ViewState:0\"><![CDATA[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]]></update></changes></partial-response>\n",
      "['Current Status:', \"Holder's Name:\", 'Date Of Issue:', 'Last Transaction At:', 'Old / New DL No.:']\n",
      "['ACTIVE', 'ANURAG           BREJA', '01-Mar-2011', 'ZONAL OFFICE, WEST DELHI, JANAKPURI', 'DL-0420110149646']\n"
     ]
    }
   ],
   "source": [
    "while(1):\n",
    "    r = requests.get(url=home_url)\n",
    "    cookies = r.cookies\n",
    "    tree = html.fromstring(r.content)\n",
    "    viewstate2 = tree.xpath('//input[@name=\"javax.faces.ViewState\"]/@value')\n",
    "    viewstate=viewstate2[0]\n",
    "    data= {\n",
    "        'javax.faces.partial.ajax': 'true',\n",
    "        'javax.faces.source': 'form_rcdl:j_idt46',\n",
    "        'javax.faces.partial.execute': '@all',\n",
    "        'javax.faces.partial.render': 'form_rcdl:pnl_show form_rcdl:pg_show form_rcdl:rcdl_pnl',\n",
    "        'form_rcdl:j_idt46': 'form_rcdl:j_idt46',\n",
    "        'form_rcdl': 'form_rcdl',\n",
    "        'form_rcdl:tf_dlNO': DL,\n",
    "        'form_rcdl:tf_dob_input': DOB,\n",
    "        #'form_rcdl:j_idt34:CaptchaID':get_captcha(),\n",
    "        'javax.faces.ViewState':viewstate \n",
    "    }\n",
    "    \n",
    "    r = requests.post(url=post_url, data=data, cookies=cookies)\n",
    "    print(r.text)\n",
    "    #html.open_in_browser(tree)\n",
    "    tree = html.fromstring(r.content)\n",
    "    #html.open_in_browser(tree)\n",
    "    t1key=tree.xpath('//table[@class=\"table table-responsive table-striped table-condensed table-bordered\"]/tr/td[1]//text()')\n",
    "    t1value=tree.xpath('//table[@class=\"table table-responsive table-striped table-condensed table-bordered\"]/tr/td[2]//text()')\n",
    "    print(t1key)\n",
    "    print(t1value)\n",
    "    if(t1key!=[]):\n",
    "        break"
   ]
  },
  {
   "cell_type": "code",
   "execution_count": 34,
   "metadata": {},
   "outputs": [
    {
     "name": "stdout",
     "output_type": "stream",
     "text": [
      "{'Current Status:': 'ACTIVE', \"Holder's Name:\": 'ANURAG           BREJA', 'Date Of Issue:': '01-Mar-2011', 'Last Transaction At:': 'ZONAL OFFICE, WEST DELHI, JANAKPURI', 'Old / New DL No.:': 'DL-0420110149646'}\n"
     ]
    }
   ],
   "source": [
    "DLStatus={}\n",
    "for i in range(len(t1key)):\n",
    "    DLStatus[t1key[i]]=t1value[i]\n",
    "print(DLStatus)"
   ]
  },
  {
   "cell_type": "code",
   "execution_count": 35,
   "metadata": {},
   "outputs": [
    {
     "name": "stdout",
     "output_type": "stream",
     "text": [
      "['Non-Transport', 'From: ', '01-Mar-2011', 'To: ', '08-Feb-2026', 'Transport', 'From: ', 'NA', 'To: ', 'NA', 'Hazardous Valid Till:', 'NA', 'Hill Valid Till:', 'NA']\n"
     ]
    }
   ],
   "source": [
    "DLDetails={}\n",
    "DLDetailsList=tree.xpath('//table[@class=\"table table-responsive table-striped table-condensed table-bordered data-table\"]/tr/td//text()')\n",
    "print(DLDetailsList)"
   ]
  },
  {
   "cell_type": "code",
   "execution_count": 36,
   "metadata": {},
   "outputs": [
    {
     "name": "stdout",
     "output_type": "stream",
     "text": [
      "{'Non-Transport': {'From: ': '01-Mar-2011', 'To: ': '08-Feb-2026'}, 'Transport': {'From: ': 'NA', 'To: ': 'NA'}, 'Hazardous Valid Till:': 'NA', 'Hill Valid Till:': 'NA'}\n"
     ]
    }
   ],
   "source": [
    "DLDetails={\n",
    "    DLDetailsList[0]:{\n",
    "                DLDetailsList[1]:DLDetailsList[2],\n",
    "                DLDetailsList[3]:DLDetailsList[4]\n",
    "                },\n",
    "    DLDetailsList[5]:{\n",
    "                DLDetailsList[6]:DLDetailsList[7],\n",
    "                DLDetailsList[8]:DLDetailsList[9]\n",
    "                },\n",
    "    DLDetailsList[10]:DLDetailsList[11],\n",
    "    DLDetailsList[12]:DLDetailsList[13]\n",
    "}\n",
    "print(DLDetails)"
   ]
  },
  {
   "cell_type": "code",
   "execution_count": 40,
   "metadata": {},
   "outputs": [
    {
     "name": "stdout",
     "output_type": "stream",
     "text": [
      "[['COV Category', 'Class Of Vehicle', 'COV Issue Date'], ['NT', 'ADPVEH', '01-Mar-2011']]\n",
      "{1: {'COV Category': 'NT', 'Class Of Vehicle': 'ADPVEH', 'COV Issue Date': '01-Mar-2011'}}\n"
     ]
    }
   ],
   "source": [
    "VehicleDetail=[[]]\n",
    "VehicleDetail[0]=[tree.xpath('//th[@id=\"form_rcdl:j_idt167:j_idt168\"]/span/text()')[0],tree.xpath('//th[@id=\"form_rcdl:j_idt167:j_idt170\"]/span/text()')[0],tree.xpath('//th[@id=\"form_rcdl:j_idt167:j_idt172\"]/span/text()')[0]]\n",
    "i=1\n",
    "while(True):\n",
    "    VehicleDetail.append(tree.xpath(f'//tbody[@id=\"form_rcdl:j_idt167_data\"]/tr[{i}]/td/text()'))\n",
    "    if(VehicleDetail[i]!=[]):\n",
    "        break\n",
    "    i+=1\n",
    "    \n",
    "print(VehicleDetail)\n",
    "#print(len(VehicleDetail))\n",
    "DVehicleDetails={}\n",
    "for i in range(1,len(VehicleDetail)):\n",
    "    DVehicleDetails[i]={\n",
    "            VehicleDetail[0][0]:VehicleDetail[i][0],\n",
    "            VehicleDetail[0][1]:VehicleDetail[i][1],\n",
    "            VehicleDetail[0][2]:VehicleDetail[i][2]\n",
    "            }\n",
    "    \n",
    "    \n",
    "print(DVehicleDetails) "
   ]
  },
  {
   "cell_type": "code",
   "execution_count": 48,
   "metadata": {},
   "outputs": [
    {
     "name": "stdout",
     "output_type": "stream",
     "text": [
      "{'Current Status:': 'ACTIVE', \"Holder's Name:\": 'ANURAG           BREJA', 'Date Of Issue:': '01-Mar-2011', 'Last Transaction At:': 'ZONAL OFFICE, WEST DELHI, JANAKPURI', 'Old / New DL No.:': 'DL-0420110149646', 'Class of Vehicle Details': {'Non-Transport': {'From: ': '01-Mar-2011', 'To: ': '08-Feb-2026'}, 'Transport': {'From: ': 'NA', 'To: ': 'NA'}, 'Hazardous Valid Till:': 'NA', 'Hill Valid Till:': 'NA'}, 'Driving License Validity Details': {1: {'COV Category': 'NT', 'Class Of Vehicle': 'ADPVEH', 'COV Issue Date': '01-Mar-2011'}}}\n"
     ]
    }
   ],
   "source": [
    "DLFINAL={}\n",
    "DLFINAL=DLStatus\n",
    "DLFINAL[\"Class of Vehicle Details\"]=DLDetails\n",
    "DLFINAL[\"Driving License Validity Details\"]=DVehicleDetails\n",
    "print(DLFINAL)"
   ]
  },
  {
   "cell_type": "code",
   "execution_count": 53,
   "metadata": {},
   "outputs": [
    {
     "name": "stdout",
     "output_type": "stream",
     "text": [
      "{\n",
      "          \"Current Status:\": \"ACTIVE\",\n",
      "          \"Holder's Name:\": \"ANURAG           BREJA\",\n",
      "          \"Date Of Issue:\": \"01-Mar-2011\",\n",
      "          \"Last Transaction At:\": \"ZONAL OFFICE, WEST DELHI, JANAKPURI\",\n",
      "          \"Old / New DL No.:\": \"DL-0420110149646\",\n",
      "          \"Class of Vehicle Details\": {\n",
      "                    \"Non-Transport\": {\n",
      "                              \"From: \": \"01-Mar-2011\",\n",
      "                              \"To: \": \"08-Feb-2026\"\n",
      "                    },\n",
      "                    \"Transport\": {\n",
      "                              \"From: \": \"NA\",\n",
      "                              \"To: \": \"NA\"\n",
      "                    },\n",
      "                    \"Hazardous Valid Till:\": \"NA\",\n",
      "                    \"Hill Valid Till:\": \"NA\"\n",
      "          },\n",
      "          \"Driving License Validity Details\": {\n",
      "                    \"1\": {\n",
      "                              \"COV Category\": \"NT\",\n",
      "                              \"Class Of Vehicle\": \"ADPVEH\",\n",
      "                              \"COV Issue Date\": \"01-Mar-2011\"\n",
      "                    }\n",
      "          }\n",
      "}\n"
     ]
    }
   ],
   "source": [
    "jsonfile=json.dumps(DLFINAL,indent=10)\n",
    "print(jsonfile)"
   ]
  },
  {
   "cell_type": "code",
   "execution_count": null,
   "metadata": {},
   "outputs": [],
   "source": []
  }
 ],
 "metadata": {
  "kernelspec": {
   "display_name": "Python 3",
   "language": "python",
   "name": "python3"
  },
  "language_info": {
   "codemirror_mode": {
    "name": "ipython",
    "version": 3
   },
   "file_extension": ".py",
   "mimetype": "text/x-python",
   "name": "python",
   "nbconvert_exporter": "python",
   "pygments_lexer": "ipython3",
   "version": "3.7.7"
  }
 },
 "nbformat": 4,
 "nbformat_minor": 4
}
